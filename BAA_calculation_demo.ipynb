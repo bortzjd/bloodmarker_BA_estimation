{
 "cells": [
  {
   "cell_type": "code",
   "execution_count": 21,
   "id": "902f118d",
   "metadata": {
    "scrolled": true
   },
   "outputs": [
    {
     "data": {
      "text/html": [
       "1.53165140192023"
      ],
      "text/latex": [
       "1.53165140192023"
      ],
      "text/markdown": [
       "1.53165140192023"
      ],
      "text/plain": [
       "[1] 1.531651"
      ]
     },
     "metadata": {},
     "output_type": "display_data"
    }
   ],
   "source": [
    "# Illustration of BAA calculation for a sample observation\n",
    "# This file assumes that all biomarkers have either been directly measured or imputed based on a reference dataset, such as UKBB\n",
    "\n",
    "#load tidy packages\n",
    "\n",
    "library(tidyverse)\n",
    "\n",
    "# read in sample_observation. \n",
    "\n",
    "sample <- read.csv('./Data/sample_observation.csv')\n",
    "\n",
    "# read in the model coefficients. Both the null model and Elastic Net model coefficients are in the csv file\n",
    "# in the same file, are the mean values of each biomarker from the Scottish subsample of UKBB (test set)\n",
    "# these means will be used for the variable centering\n",
    "# when applied outside of the UKBB context, the same should be done for the reference population in question\n",
    "\n",
    "model_data <- read.csv('./Data/coefficients_and_means.csv')\n",
    "\n",
    "# Sex is not used in the BAA calculation\n",
    "# Only the difference between the age cofficient from the null model and the elastic net model is used in the BAA calcaultion\n",
    "# i.e. Age_Coef_BAA = Age_Coef_ENET - Age_Coef_Null, where Null is the sex and Age only model\n",
    "# this ensures that the average effect of chronological age on biological age at each age is retained within the CA term \n",
    "# (rather than reflected in the biomarker component due to covariance). The CA term is not used in the BAA estimation. \n",
    "# (see Methods section of paper)\n",
    "\n",
    "\n",
    "sample_adj <- sample %>% filter(feature != 'sex')\n",
    "model_data_adj <- model_data  %>% filter(feature != 'sexM')\n",
    "# adjust age coefficient for the calculation of BAA\n",
    "model_data_adj <- model_data_adj %>% mutate(BAA_coefficient = coefficient_ENET - coefficient_SexAge)\n",
    "\n",
    "\n",
    "# values to be converted to numeric now that sex (character) has been removed\n",
    "\n",
    "sample_adj$value <- as.numeric(sample_adj$value)\n",
    "\n",
    "\n",
    "# Centering - variables are centered using the mean values of each feature from the Scottish test set\n",
    "# The rationale here is that the \"average\" person in a reference population should display a BAA of 0 i.e BA = CA\n",
    "# i.e. acceleration is measured in relation to the reference population itself\n",
    "\n",
    "joined_data  <-  merge(sample_adj, model_data_adj, by = 'feature')\n",
    "joined_data <- joined_data  %>% mutate(centeredValue = value - featureMean)\n",
    "\n",
    "# now multiply the centered value by the coefficient, and sum the product. \n",
    "# multiplying by 10 gives the ultimate BAA (see Methods section of paper)\n",
    "# for multiple data points, matrix multiplication is recommended\n",
    "# Here, for a single observation, we simply multiply the columns and sum the resulting scalars\n",
    "\n",
    "BAA <- sum(joined_data$centeredValue * joined_data$BAA_coefficient) * 10\n",
    "BAA\n",
    "\n",
    "# the biological age acceleration result is 1.5 years i.e Biological age is 1.5 years higher than chronological age\n",
    "# For this sample individual, this implies a Biological Age of 69.5 vs Chronoligical age of 68"
   ]
  }
 ],
 "metadata": {
  "kernelspec": {
   "display_name": "R",
   "language": "R",
   "name": "ir"
  },
  "language_info": {
   "codemirror_mode": "r",
   "file_extension": ".r",
   "mimetype": "text/x-r-source",
   "name": "R",
   "pygments_lexer": "r",
   "version": "4.2.2"
  }
 },
 "nbformat": 4,
 "nbformat_minor": 5
}
